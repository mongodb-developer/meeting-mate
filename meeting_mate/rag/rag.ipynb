{
 "cells": [
  {
   "cell_type": "code",
   "execution_count": 1,
   "metadata": {},
   "outputs": [],
   "source": [
    "from meeting_mate.mongo.mongo import PLAIN_INSTANCE as mongo\n",
    "from meeting_mate.llm.models import EmbeddingModels, EmbeddingsModel, LangchainEmbeddingsModel\n",
    "from langchain_mongodb import MongoDBAtlasVectorSearch\n"
   ]
  },
  {
   "cell_type": "code",
   "execution_count": 2,
   "metadata": {},
   "outputs": [],
   "source": [
    "collection = mongo.db[\"facts\"]\n",
    "user_id = \"106936893069932136953\""
   ]
  },
  {
   "cell_type": "code",
   "execution_count": 3,
   "metadata": {},
   "outputs": [],
   "source": [
    "model = EmbeddingsModel(EmbeddingModels.NOMIC_EMBED_TEXT_1_5)\n",
    "embeddings = LangchainEmbeddingsModel(model=model, user=user_id, purpose=\"data science\")\n",
    "vectorSearch = MongoDBAtlasVectorSearch(collection=collection, embedding=embeddings, index_name=\"vector_index\", text_key=\"facts\")"
   ]
  },
  {
   "cell_type": "code",
   "execution_count": 4,
   "metadata": {},
   "outputs": [],
   "source": [
    "question = \"What is technical background of the Vista Retail team?\""
   ]
  },
  {
   "cell_type": "code",
   "execution_count": 5,
   "metadata": {},
   "outputs": [
    {
     "data": {
      "text/plain": [
       "[Document(page_content=\"* Vista Retail Solutions currently uses a Relational DB, primarily MySQL.\\n* Vista Retail Solutions has high write loads and needs real-time analytics for user activity and product tracking.\\n* Erin Smith is an IT Security Officer at Vista Retail Solutions, focusing on data security.\\n* Erin Smith is responsible for data security at Vista Retail Solutions.\\n* Vista Retail Solutions needs to comply with GDPR due to its European market presence.\\n* Vista Retail Solutions needs to consider HIPAA compliance for handling employee health information in benefits management.\\n* TODO: Erin Smith will review MongoDB's compliance certifications and prepare a security audit checklist.\", metadata={'_id': {'$oid': '665eceee8802b366155d855a'}, 'doc_id': '1T7MonCnvmvLUN0PABmwsQsg0CiqcFJjWgsUiQCi9hO4', 'user_id': '106936893069932136953', 'organizations': ['MongoDB', 'MongoDB Atlas', 'MongoDB Inc.', 'Vista Retail Solutions']}),\n",
       " Document(page_content='* Vista Retail Solutions currently uses a Relational DB, primarily MySQL, with heavy joins and slow queries under load.\\n* Vista Retail Solutions has high write loads and needs real-time analytics for user activity and product tracking.\\n* The data patterns discussed were mostly writes with occasional heavy reads, especially during product launches and sales.\\n* Real-time data feeding into analytics for dynamic pricing adjustments was also discussed.\\n* Vista Retail Solutions needs to comply with GDPR due to its presence in the European market.\\n* Vista Retail Solutions needs to consider HIPAA compliance for handling employee health information in benefits management.\\n* Adjustments from prototype feedback include query performance improvements on product listings and enhanced schema design for user profiles and order history.\\n* Data access patterns involve high read rates on product catalog with caching for performance, burst writes during sales events, and complex queries for recommendations and customer insights.\\n* Security and backup strategies include transitioning to field-level encryption, real-time data encryption, and automated rolling backups.', metadata={'_id': {'$oid': '665eceee8802b366155d8551'}, 'doc_id': '1JCpIqfOxht8f0YKFY49oBHVs7Xtq5ADXMKA7yf4tCik', 'user_id': '106936893069932136953', 'organizations': ['MongoDB', 'MongoDB Inc.', 'Vista Retail Solutions']}),\n",
       " Document(page_content='* Bob Lee is a Project Manager at Vista Retail Solutions, interested in modernizing their database.\\n* Charlie Kim is a Software Engineer at Vista Retail Solutions, looking for scalable solutions.\\n* Bob Lee and Charlie Kim work for Vista Retail Solutions.\\n* Bob Lee is the Project Manager, and Charlie Kim is a Software Engineer.\\n* TODO: Bob Lee will share existing schema and top queries.\\n* Charlie Kim is a Software Engineer with a focus on performance details.\\n* Charlie Kim will prototype a MongoDB shard with sample product data.\\n* TODO: Charlie Kim will prototype a MongoDB shard with sample product data.\\n* Bob Lee is a Project Manager at Vista Retail Solutions, focusing on compliance.\\n* Erin Smith is an IT Security Officer at Vista Retail Solutions, focusing on data security.\\n* Bob Lee and Erin Smith work for Vista Retail Solutions.\\n* Bob Lee and Erin Smith are working together on the compliance and security aspects of the project.\\n* Charlie Kim is a Software Engineer and the migration lead.\\n* Charlie Kim is responsible for the migration process.\\n* Bob Lee is a Project Manager responsible for project finalization.\\n* Charlie Kim is a Software Engineer and the implementation lead.\\n* Bob Lee is the Project Manager for the project finalization.\\n* Charlie Kim is the Software Engineer and implementation lead for the project.\\n* TODO: Bob Lee will manage the project timeline and coordinate key phases.\\n* TODO: Charlie Kim will lead the implementation and work on API integration.', metadata={'_id': {'$oid': '665eceee8802b366155d8550'}, 'doc_id': '1JCpIqfOxht8f0YKFY49oBHVs7Xtq5ADXMKA7yf4tCik', 'user_id': '106936893069932136953', 'organizations': ['MongoDB', 'MongoDB Inc.', 'Vista Retail Solutions']}),\n",
       " Document(page_content='* Bob Lee is a Project Manager at Vista Retail Solutions, interested in modernizing their database.\\n* Charlie Kim is a Software Engineer at Vista Retail Solutions, looking for scalable solutions.\\n* Bob Lee and Charlie Kim work for Vista Retail Solutions.\\n* Bob Lee is the Project Manager, and Charlie Kim is a Software Engineer.\\n* TODO: Bob Lee will share existing schema and top queries.\\n* Charlie Kim is a Software Engineer with a focus on performance details.\\n* TODO: Charlie Kim will prototype a MongoDB shard with sample product data.\\n* Bob Lee is a Project Manager at Vista Retail Solutions, focusing on compliance.\\n* Bob Lee is responsible for compliance at Vista Retail Solutions.\\n* TODO: Bob Lee will organize a compliance review meeting with the legal team and MongoDB experts.\\n* Charlie Kim is a Software Engineer and the migration lead.\\n* Bob Lee is a Project Manager responsible for project finalization.\\n* Charlie Kim is a Software Engineer and the implementation lead.\\n* Bob Lee and Charlie Kim work together on the project finalization.\\n* TODO: Bob Lee to manage the implementation timeline and coordinate key phases.\\n* TODO: Charlie Kim to lead the implementation and work on API integration.', metadata={'_id': {'$oid': '665eceee8802b366155d8559'}, 'doc_id': '1T7MonCnvmvLUN0PABmwsQsg0CiqcFJjWgsUiQCi9hO4', 'user_id': '106936893069932136953', 'organizations': ['MongoDB', 'MongoDB Atlas', 'MongoDB Inc.', 'Vista Retail Solutions']})]"
      ]
     },
     "execution_count": 5,
     "metadata": {},
     "output_type": "execute_result"
    }
   ],
   "source": [
    "vectorSearch.similarity_search(query=question, pre_filter={\"user_id\": user_id})"
   ]
  },
  {
   "cell_type": "code",
   "execution_count": 6,
   "metadata": {},
   "outputs": [],
   "source": [
    "import importlib\n",
    "import meeting_mate.mongo.retrieval as retrieval\n",
    "importlib.reload(retrieval)\n",
    "\n",
    "retriever = retrieval.Retriever(colname=\"facts\", embeddingModel=model, vector_index=\"vector_index\", embedding_field=\"embedding\", text_index=\"text_index\", text_field=\"facts\", user_field=\"user_id\")\n",
    "#retriever.vector_search(query=question, user=user_id, purpose=\"data science\")"
   ]
  },
  {
   "cell_type": "code",
   "execution_count": 7,
   "metadata": {},
   "outputs": [
    {
     "data": {
      "text/plain": [
       "['MongoDB',\n",
       " 'MongoDB Inc.',\n",
       " 'Vista Retail Solutions',\n",
       " 'MongoDB Atlas',\n",
       " 'Hellevators',\n",
       " 'Contonso',\n",
       " 'Kontäxt Software',\n",
       " 'Tech Solutions']"
      ]
     },
     "execution_count": 7,
     "metadata": {},
     "output_type": "execute_result"
    }
   ],
   "source": [
    "retriever.facet(user=user_id, field=\"organizations\")"
   ]
  },
  {
   "cell_type": "code",
   "execution_count": 8,
   "metadata": {},
   "outputs": [
    {
     "data": {
      "text/plain": [
       "[{'_id': ObjectId('665eceee8802b366155d8559'),\n",
       "  'doc_id': '1T7MonCnvmvLUN0PABmwsQsg0CiqcFJjWgsUiQCi9hO4',\n",
       "  'user_id': '106936893069932136953',\n",
       "  'organizations': ['MongoDB',\n",
       "   'MongoDB Atlas',\n",
       "   'MongoDB Inc.',\n",
       "   'Vista Retail Solutions'],\n",
       "  'facts': '* Bob Lee is a Project Manager at Vista Retail Solutions, interested in modernizing their database.\\n* Charlie Kim is a Software Engineer at Vista Retail Solutions, looking for scalable solutions.\\n* Bob Lee and Charlie Kim work for Vista Retail Solutions.\\n* Bob Lee is the Project Manager, and Charlie Kim is a Software Engineer.\\n* TODO: Bob Lee will share existing schema and top queries.\\n* Charlie Kim is a Software Engineer with a focus on performance details.\\n* TODO: Charlie Kim will prototype a MongoDB shard with sample product data.\\n* Bob Lee is a Project Manager at Vista Retail Solutions, focusing on compliance.\\n* Bob Lee is responsible for compliance at Vista Retail Solutions.\\n* TODO: Bob Lee will organize a compliance review meeting with the legal team and MongoDB experts.\\n* Charlie Kim is a Software Engineer and the migration lead.\\n* Bob Lee is a Project Manager responsible for project finalization.\\n* Charlie Kim is a Software Engineer and the implementation lead.\\n* Bob Lee and Charlie Kim work together on the project finalization.\\n* TODO: Bob Lee to manage the implementation timeline and coordinate key phases.\\n* TODO: Charlie Kim to lead the implementation and work on API integration.'},\n",
       " {'_id': ObjectId('665eceee8802b366155d855a'),\n",
       "  'doc_id': '1T7MonCnvmvLUN0PABmwsQsg0CiqcFJjWgsUiQCi9hO4',\n",
       "  'user_id': '106936893069932136953',\n",
       "  'organizations': ['MongoDB',\n",
       "   'MongoDB Atlas',\n",
       "   'MongoDB Inc.',\n",
       "   'Vista Retail Solutions'],\n",
       "  'facts': \"* Vista Retail Solutions currently uses a Relational DB, primarily MySQL.\\n* Vista Retail Solutions has high write loads and needs real-time analytics for user activity and product tracking.\\n* Erin Smith is an IT Security Officer at Vista Retail Solutions, focusing on data security.\\n* Erin Smith is responsible for data security at Vista Retail Solutions.\\n* Vista Retail Solutions needs to comply with GDPR due to its European market presence.\\n* Vista Retail Solutions needs to consider HIPAA compliance for handling employee health information in benefits management.\\n* TODO: Erin Smith will review MongoDB's compliance certifications and prepare a security audit checklist.\"},\n",
       " {'_id': ObjectId('665eceee8802b366155d8550'),\n",
       "  'doc_id': '1JCpIqfOxht8f0YKFY49oBHVs7Xtq5ADXMKA7yf4tCik',\n",
       "  'user_id': '106936893069932136953',\n",
       "  'organizations': ['MongoDB', 'MongoDB Inc.', 'Vista Retail Solutions'],\n",
       "  'facts': '* Bob Lee is a Project Manager at Vista Retail Solutions, interested in modernizing their database.\\n* Charlie Kim is a Software Engineer at Vista Retail Solutions, looking for scalable solutions.\\n* Bob Lee and Charlie Kim work for Vista Retail Solutions.\\n* Bob Lee is the Project Manager, and Charlie Kim is a Software Engineer.\\n* TODO: Bob Lee will share existing schema and top queries.\\n* Charlie Kim is a Software Engineer with a focus on performance details.\\n* Charlie Kim will prototype a MongoDB shard with sample product data.\\n* TODO: Charlie Kim will prototype a MongoDB shard with sample product data.\\n* Bob Lee is a Project Manager at Vista Retail Solutions, focusing on compliance.\\n* Erin Smith is an IT Security Officer at Vista Retail Solutions, focusing on data security.\\n* Bob Lee and Erin Smith work for Vista Retail Solutions.\\n* Bob Lee and Erin Smith are working together on the compliance and security aspects of the project.\\n* Charlie Kim is a Software Engineer and the migration lead.\\n* Charlie Kim is responsible for the migration process.\\n* Bob Lee is a Project Manager responsible for project finalization.\\n* Charlie Kim is a Software Engineer and the implementation lead.\\n* Bob Lee is the Project Manager for the project finalization.\\n* Charlie Kim is the Software Engineer and implementation lead for the project.\\n* TODO: Bob Lee will manage the project timeline and coordinate key phases.\\n* TODO: Charlie Kim will lead the implementation and work on API integration.'},\n",
       " {'_id': ObjectId('665eceee8802b366155d8558'),\n",
       "  'doc_id': '1JCpIqfOxht8f0YKFY49oBHVs7Xtq5ADXMKA7yf4tCik',\n",
       "  'user_id': '106936893069932136953',\n",
       "  'organizations': ['MongoDB', 'MongoDB Inc.', 'Vista Retail Solutions'],\n",
       "  'facts': '* TODO: Alice Johnson will draft benefits outline for MongoDB migration, focusing on performance metrics and real-world use cases in e-commerce.\\n* Alice Johnson will provide indexing best practices documentation and examples from similar retail deployments.\\n* TODO: Alice Johnson will provide indexing best practices documentation and examples from similar retail deployments.\\n* TODO: Alice Johnson will set up the initial migration environment in Atlas and schedule a technical workshop for the DB team.\\n* TODO: Alice Johnson will provide guidance on query performance improvements and schema design.'},\n",
       " {'_id': ObjectId('665eceee8802b366155d8551'),\n",
       "  'doc_id': '1JCpIqfOxht8f0YKFY49oBHVs7Xtq5ADXMKA7yf4tCik',\n",
       "  'user_id': '106936893069932136953',\n",
       "  'organizations': ['MongoDB', 'MongoDB Inc.', 'Vista Retail Solutions'],\n",
       "  'facts': '* Vista Retail Solutions currently uses a Relational DB, primarily MySQL, with heavy joins and slow queries under load.\\n* Vista Retail Solutions has high write loads and needs real-time analytics for user activity and product tracking.\\n* The data patterns discussed were mostly writes with occasional heavy reads, especially during product launches and sales.\\n* Real-time data feeding into analytics for dynamic pricing adjustments was also discussed.\\n* Vista Retail Solutions needs to comply with GDPR due to its presence in the European market.\\n* Vista Retail Solutions needs to consider HIPAA compliance for handling employee health information in benefits management.\\n* Adjustments from prototype feedback include query performance improvements on product listings and enhanced schema design for user profiles and order history.\\n* Data access patterns involve high read rates on product catalog with caching for performance, burst writes during sales events, and complex queries for recommendations and customer insights.\\n* Security and backup strategies include transitioning to field-level encryption, real-time data encryption, and automated rolling backups.'},\n",
       " {'_id': ObjectId('665eceee8802b366155d8556'),\n",
       "  'doc_id': '1JCpIqfOxht8f0YKFY49oBHVs7Xtq5ADXMKA7yf4tCik',\n",
       "  'user_id': '106936893069932136953',\n",
       "  'organizations': ['MongoDB', 'MongoDB Inc.', 'Vista Retail Solutions'],\n",
       "  'facts': \"* The meeting was a technical deep dive into MongoDB's architecture.\\n* The meeting was held to discuss security and compliance in MongoDB.\\n* MongoDB has role-based access control for staff and admin operations.\\n* MongoDB has encryption at rest and in transit for user and transaction data.\\n* TODO: Erin Smith will review MongoDB's compliance certifications and prepare a security audit checklist.\\n* TODO: Bob Lee will organize a compliance review meeting with the legal team and MongoDB experts.\\n* The purpose of the meeting is to outline the migration strategy to MongoDB.\"},\n",
       " {'_id': ObjectId('665eceef8802b366155d855f'),\n",
       "  'doc_id': '1T7MonCnvmvLUN0PABmwsQsg0CiqcFJjWgsUiQCi9hO4',\n",
       "  'user_id': '106936893069932136953',\n",
       "  'organizations': ['MongoDB',\n",
       "   'MongoDB Atlas',\n",
       "   'MongoDB Inc.',\n",
       "   'Vista Retail Solutions'],\n",
       "  'facts': '* TODO: Alice Johnson will draft benefits outline for MongoDB migration, focusing on performance metrics and real-world use cases in e-commerce.\\n* Alice Johnson is responsible for setting up the initial migration environment in MongoDB Atlas.\\n* MongoDB Atlas will be used for cloud management and deployment.\\n* TODO: Alice Johnson will setup initial migration environment in Atlas and schedule a technical workshop for the DB team.'},\n",
       " {'_id': ObjectId('665eceef8802b366155d855e'),\n",
       "  'doc_id': '1T7MonCnvmvLUN0PABmwsQsg0CiqcFJjWgsUiQCi9hO4',\n",
       "  'user_id': '106936893069932136953',\n",
       "  'organizations': ['MongoDB',\n",
       "   'MongoDB Atlas',\n",
       "   'MongoDB Inc.',\n",
       "   'Vista Retail Solutions'],\n",
       "  'facts': \"* MongoDB is a NoSQL database with flexible schemas and scalability.\\n* MongoDB can provide schema flexibility for dynamic product catalogs and horizontal scaling for high traffic events.\\n* The meeting was a technical deep dive into MongoDB's architecture.\\n* The meeting is about addressing security and compliance in MongoDB.\\n* MongoDB has role-based access control for staff and admin operations.\\n* MongoDB has encryption at rest and in transit for user and transaction data.\\n* The purpose of the meeting is to outline the migration strategy to MongoDB.\"},\n",
       " {'_id': ObjectId('665eceef8802b366155d8560'),\n",
       "  'doc_id': '1T7MonCnvmvLUN0PABmwsQsg0CiqcFJjWgsUiQCi9hO4',\n",
       "  'user_id': '106936893069932136953',\n",
       "  'organizations': ['MongoDB',\n",
       "   'MongoDB Atlas',\n",
       "   'MongoDB Inc.',\n",
       "   'Vista Retail Solutions'],\n",
       "  'facts': '* Alice Johnson is a Solutions Architect at MongoDB Inc.\\n* Alice Johnson represents MongoDB Inc.\\n* Alice Johnson is a Solutions Architect at MongoDB.\\n* Alice Johnson works for MongoDB.\\n* TODO: Alice Johnson will provide indexing best practices documentation and examples from similar retail deployments.\\n* Alice Johnson is a Solutions Architect at MongoDB Inc.\\n* Alice Johnson is a Solutions Architect at MongoDB.\\n* Alice Johnson is a Solutions Architect at MongoDB.\\n* Alice Johnson is from MongoDB.\\n* TODO: Alice Johnson to assist with query performance improvements and schema design enhancements.'},\n",
       " {'_id': ObjectId('665eceee8802b366155d8552'),\n",
       "  'doc_id': '1JCpIqfOxht8f0YKFY49oBHVs7Xtq5ADXMKA7yf4tCik',\n",
       "  'user_id': '106936893069932136953',\n",
       "  'organizations': ['MongoDB', 'MongoDB Inc.', 'Vista Retail Solutions'],\n",
       "  'facts': '* Alice Johnson, Charlie Kim, and Diana Reed attended the meeting.\\n* The meeting focused on sharding for horizontal scalability and indexing strategies for performance.\\n* The purpose of the meeting is to finalize the implementation details for an e-commerce shop.'},\n",
       " {'_id': ObjectId('665eceee8802b366155d855b'),\n",
       "  'doc_id': '1T7MonCnvmvLUN0PABmwsQsg0CiqcFJjWgsUiQCi9hO4',\n",
       "  'user_id': '106936893069932136953',\n",
       "  'organizations': ['MongoDB',\n",
       "   'MongoDB Atlas',\n",
       "   'MongoDB Inc.',\n",
       "   'Vista Retail Solutions'],\n",
       "  'facts': '* Alice Johnson, Charlie Kim, and Diana Reed attended the meeting.\\n* The meeting focused on sharding for horizontal scalability and indexing strategies for performance.\\n* The purpose of the meeting is to finalize implementation details for an e-commerce shop.'},\n",
       " {'_id': ObjectId('665eceee8802b366155d8554'),\n",
       "  'doc_id': '1JCpIqfOxht8f0YKFY49oBHVs7Xtq5ADXMKA7yf4tCik',\n",
       "  'user_id': '106936893069932136953',\n",
       "  'organizations': ['MongoDB', 'MongoDB Inc.', 'Vista Retail Solutions'],\n",
       "  'facts': \"* MongoDB is a NoSQL database with flexible schemas and scalability.\\n* MongoDB can provide schema flexibility for dynamic product catalogs and horizontal scaling to handle high traffic events like sales.\\n* The migration challenges include transforming the relational data model to MongoDB's document model and updating existing APIs.\\n* Tools like MongoDB Atlas and MongoDB Atlas Data Lake will be used for cloud management, deployment, and querying historical data.\\n* Key phases include schema redesign, API reintegration, pilot testing, and full migration.\\n* API integration involves existing RESTful services for product management and user handling, adjustments for NoSQL data retrieval patterns, and the introduction of GraphQL for more flexible data fetching.\"},\n",
       " {'_id': ObjectId('665eceef8802b366155d855d'),\n",
       "  'doc_id': '1T7MonCnvmvLUN0PABmwsQsg0CiqcFJjWgsUiQCi9hO4',\n",
       "  'user_id': '106936893069932136953',\n",
       "  'organizations': ['MongoDB',\n",
       "   'MongoDB Atlas',\n",
       "   'MongoDB Inc.',\n",
       "   'Vista Retail Solutions'],\n",
       "  'facts': \"* The current system has heavy joins and slow queries under load.\\n* Diana Reed is a Data Analyst with a focus on query capabilities.\\n* The data patterns discussed were mostly writes with occasional heavy reads, especially during product launches and sales.\\n* Real-time data feeding into analytics for dynamic pricing adjustments was also discussed.\\n* Fiona Green is a DB Admin with migration concerns.\\n* Fiona Green will prepare the data mapping outline, focusing on critical data like user profiles and transaction history.\\n* The migration challenges include transforming the relational data model to MongoDB's document model, focusing on maintaining relationships like user to orders.\\n* The migration challenges also include updating existing APIs to optimize for document database access patterns.\\n* Database migration tools like the MongoDB Atlas Data Lake will be used for querying historical data.\\n* TODO: Fiona Green will prepare data mapping outline, focusing on critical data like user profiles and transaction history.\\n* Key phases include schema redesign, API reintegration, pilot testing, and full migration.\\n* Adjustments from prototype feedback include query performance improvements on product listings and enhanced schema design for user profiles and order history.\\n* Data access patterns involve high read rates on product catalog with caching for performance, burst writes during sales events, and complex queries for recommendations and customer insights.\\n* Security and backup strategies include transitioning to field-level encryption, real-time data encryption, and automated rolling backups.\\n* API integration involves existing RESTful services for product management and user handling, adjustments for NoSQL data retrieval patterns, and the introduction of GraphQL for more flexible data fetching.\"},\n",
       " {'_id': ObjectId('665eceee8802b366155d8557'),\n",
       "  'doc_id': '1JCpIqfOxht8f0YKFY49oBHVs7Xtq5ADXMKA7yf4tCik',\n",
       "  'user_id': '106936893069932136953',\n",
       "  'organizations': ['MongoDB', 'MongoDB Inc.', 'Vista Retail Solutions'],\n",
       "  'facts': '* Alice Johnson is a Solutions Architect at MongoDB Inc.\\n* Alice Johnson works for MongoDB Inc.\\n* Alice Johnson is a Solutions Architect at MongoDB.\\n* Alice Johnson is a Solutions Architect at MongoDB Inc.\\n* Alice Johnson works for MongoDB Inc.\\n* Alice Johnson is a Solutions Architect at MongoDB.\\n* Alice Johnson is involved in the migration strategy to MongoDB.\\n* Alice Johnson is a Solutions Architect at MongoDB.\\n* Alice Johnson is involved in the project as a Solutions Architect from MongoDB.'},\n",
       " {'_id': ObjectId('665eceee8802b366155d8555'),\n",
       "  'doc_id': '1JCpIqfOxht8f0YKFY49oBHVs7Xtq5ADXMKA7yf4tCik',\n",
       "  'user_id': '106936893069932136953',\n",
       "  'organizations': ['MongoDB', 'MongoDB Inc.', 'Vista Retail Solutions'],\n",
       "  'facts': '* Diana Reed is a Data Analyst with a focus on query capabilities.\\n* Fiona Green is a DB Admin with migration concerns.\\n* Fiona Green is responsible for preparing the data mapping outline.\\n* TODO: Fiona Green will prepare the data mapping outline, focusing on critical data like user profiles and transaction history.'},\n",
       " {'_id': ObjectId('665eceef8802b366155d8561'),\n",
       "  'doc_id': '1T7MonCnvmvLUN0PABmwsQsg0CiqcFJjWgsUiQCi9hO4',\n",
       "  'user_id': '106936893069932136953',\n",
       "  'organizations': ['MongoDB',\n",
       "   'MongoDB Atlas',\n",
       "   'MongoDB Inc.',\n",
       "   'Vista Retail Solutions'],\n",
       "  'facts': '* Alice Johnson is representing MongoDB Inc. in the meeting.'},\n",
       " {'_id': ObjectId('665eceee8802b366155d8553'),\n",
       "  'doc_id': '1JCpIqfOxht8f0YKFY49oBHVs7Xtq5ADXMKA7yf4tCik',\n",
       "  'user_id': '106936893069932136953',\n",
       "  'organizations': ['MongoDB', 'MongoDB Inc.', 'Vista Retail Solutions'],\n",
       "  'facts': '* The implementation timeline starts on July 15th, 2024.\\n* Load testing will be conducted in August, followed by user acceptance testing in September.\\n* The go-live date is scheduled for October 1st, 2024.'},\n",
       " {'_id': ObjectId('665eceef8802b366155d855c'),\n",
       "  'doc_id': '1T7MonCnvmvLUN0PABmwsQsg0CiqcFJjWgsUiQCi9hO4',\n",
       "  'user_id': '106936893069932136953',\n",
       "  'organizations': ['MongoDB',\n",
       "   'MongoDB Atlas',\n",
       "   'MongoDB Inc.',\n",
       "   'Vista Retail Solutions'],\n",
       "  'facts': '* The implementation timeline starts on July 15th, 2024.\\n* Load testing will be conducted in August, followed by user acceptance testing in September.\\n* The go-live date is scheduled for October 1st, 2024.'}]"
      ]
     },
     "execution_count": 8,
     "metadata": {},
     "output_type": "execute_result"
    }
   ],
   "source": [
    "results, pipe = retriever.keyword_search(query=question, user=user_id, orgs=[\"Vista Retail Solutions\"])\n",
    "results\n"
   ]
  },
  {
   "cell_type": "code",
   "execution_count": 9,
   "metadata": {},
   "outputs": [
    {
     "data": {
      "text/plain": [
       "[{'_id': ObjectId('665eceee8802b366155d855a'),\n",
       "  'doc_id': '1T7MonCnvmvLUN0PABmwsQsg0CiqcFJjWgsUiQCi9hO4',\n",
       "  'user_id': '106936893069932136953',\n",
       "  'organizations': ['MongoDB',\n",
       "   'MongoDB Atlas',\n",
       "   'MongoDB Inc.',\n",
       "   'Vista Retail Solutions'],\n",
       "  'facts': \"* Vista Retail Solutions currently uses a Relational DB, primarily MySQL.\\n* Vista Retail Solutions has high write loads and needs real-time analytics for user activity and product tracking.\\n* Erin Smith is an IT Security Officer at Vista Retail Solutions, focusing on data security.\\n* Erin Smith is responsible for data security at Vista Retail Solutions.\\n* Vista Retail Solutions needs to comply with GDPR due to its European market presence.\\n* Vista Retail Solutions needs to consider HIPAA compliance for handling employee health information in benefits management.\\n* TODO: Erin Smith will review MongoDB's compliance certifications and prepare a security audit checklist.\",\n",
       "  'vectorSearchScore': 0.8426724672317505},\n",
       " {'_id': ObjectId('665eceee8802b366155d8551'),\n",
       "  'doc_id': '1JCpIqfOxht8f0YKFY49oBHVs7Xtq5ADXMKA7yf4tCik',\n",
       "  'user_id': '106936893069932136953',\n",
       "  'organizations': ['MongoDB', 'MongoDB Inc.', 'Vista Retail Solutions'],\n",
       "  'facts': '* Vista Retail Solutions currently uses a Relational DB, primarily MySQL, with heavy joins and slow queries under load.\\n* Vista Retail Solutions has high write loads and needs real-time analytics for user activity and product tracking.\\n* The data patterns discussed were mostly writes with occasional heavy reads, especially during product launches and sales.\\n* Real-time data feeding into analytics for dynamic pricing adjustments was also discussed.\\n* Vista Retail Solutions needs to comply with GDPR due to its presence in the European market.\\n* Vista Retail Solutions needs to consider HIPAA compliance for handling employee health information in benefits management.\\n* Adjustments from prototype feedback include query performance improvements on product listings and enhanced schema design for user profiles and order history.\\n* Data access patterns involve high read rates on product catalog with caching for performance, burst writes during sales events, and complex queries for recommendations and customer insights.\\n* Security and backup strategies include transitioning to field-level encryption, real-time data encryption, and automated rolling backups.',\n",
       "  'vectorSearchScore': 0.8352524042129517},\n",
       " {'_id': ObjectId('665eceee8802b366155d8550'),\n",
       "  'doc_id': '1JCpIqfOxht8f0YKFY49oBHVs7Xtq5ADXMKA7yf4tCik',\n",
       "  'user_id': '106936893069932136953',\n",
       "  'organizations': ['MongoDB', 'MongoDB Inc.', 'Vista Retail Solutions'],\n",
       "  'facts': '* Bob Lee is a Project Manager at Vista Retail Solutions, interested in modernizing their database.\\n* Charlie Kim is a Software Engineer at Vista Retail Solutions, looking for scalable solutions.\\n* Bob Lee and Charlie Kim work for Vista Retail Solutions.\\n* Bob Lee is the Project Manager, and Charlie Kim is a Software Engineer.\\n* TODO: Bob Lee will share existing schema and top queries.\\n* Charlie Kim is a Software Engineer with a focus on performance details.\\n* Charlie Kim will prototype a MongoDB shard with sample product data.\\n* TODO: Charlie Kim will prototype a MongoDB shard with sample product data.\\n* Bob Lee is a Project Manager at Vista Retail Solutions, focusing on compliance.\\n* Erin Smith is an IT Security Officer at Vista Retail Solutions, focusing on data security.\\n* Bob Lee and Erin Smith work for Vista Retail Solutions.\\n* Bob Lee and Erin Smith are working together on the compliance and security aspects of the project.\\n* Charlie Kim is a Software Engineer and the migration lead.\\n* Charlie Kim is responsible for the migration process.\\n* Bob Lee is a Project Manager responsible for project finalization.\\n* Charlie Kim is a Software Engineer and the implementation lead.\\n* Bob Lee is the Project Manager for the project finalization.\\n* Charlie Kim is the Software Engineer and implementation lead for the project.\\n* TODO: Bob Lee will manage the project timeline and coordinate key phases.\\n* TODO: Charlie Kim will lead the implementation and work on API integration.',\n",
       "  'vectorSearchScore': 0.8199977874755859},\n",
       " {'_id': ObjectId('665eceee8802b366155d8559'),\n",
       "  'doc_id': '1T7MonCnvmvLUN0PABmwsQsg0CiqcFJjWgsUiQCi9hO4',\n",
       "  'user_id': '106936893069932136953',\n",
       "  'organizations': ['MongoDB',\n",
       "   'MongoDB Atlas',\n",
       "   'MongoDB Inc.',\n",
       "   'Vista Retail Solutions'],\n",
       "  'facts': '* Bob Lee is a Project Manager at Vista Retail Solutions, interested in modernizing their database.\\n* Charlie Kim is a Software Engineer at Vista Retail Solutions, looking for scalable solutions.\\n* Bob Lee and Charlie Kim work for Vista Retail Solutions.\\n* Bob Lee is the Project Manager, and Charlie Kim is a Software Engineer.\\n* TODO: Bob Lee will share existing schema and top queries.\\n* Charlie Kim is a Software Engineer with a focus on performance details.\\n* TODO: Charlie Kim will prototype a MongoDB shard with sample product data.\\n* Bob Lee is a Project Manager at Vista Retail Solutions, focusing on compliance.\\n* Bob Lee is responsible for compliance at Vista Retail Solutions.\\n* TODO: Bob Lee will organize a compliance review meeting with the legal team and MongoDB experts.\\n* Charlie Kim is a Software Engineer and the migration lead.\\n* Bob Lee is a Project Manager responsible for project finalization.\\n* Charlie Kim is a Software Engineer and the implementation lead.\\n* Bob Lee and Charlie Kim work together on the project finalization.\\n* TODO: Bob Lee to manage the implementation timeline and coordinate key phases.\\n* TODO: Charlie Kim to lead the implementation and work on API integration.',\n",
       "  'vectorSearchScore': 0.8183308839797974},\n",
       " {'_id': ObjectId('665eceee8802b366155d855b'),\n",
       "  'doc_id': '1T7MonCnvmvLUN0PABmwsQsg0CiqcFJjWgsUiQCi9hO4',\n",
       "  'user_id': '106936893069932136953',\n",
       "  'organizations': ['MongoDB',\n",
       "   'MongoDB Atlas',\n",
       "   'MongoDB Inc.',\n",
       "   'Vista Retail Solutions'],\n",
       "  'facts': '* Alice Johnson, Charlie Kim, and Diana Reed attended the meeting.\\n* The meeting focused on sharding for horizontal scalability and indexing strategies for performance.\\n* The purpose of the meeting is to finalize implementation details for an e-commerce shop.',\n",
       "  'vectorSearchScore': 0.7638527750968933}]"
      ]
     },
     "execution_count": 9,
     "metadata": {},
     "output_type": "execute_result"
    }
   ],
   "source": [
    "results, pipe = retriever.vector_search(query=question, user=user_id, purpose=\"data science\", orgs=[\"Vista Retail Solutions\"])\n",
    "results"
   ]
  },
  {
   "cell_type": "code",
   "execution_count": 28,
   "metadata": {},
   "outputs": [],
   "source": [
    "def build_context(chunks, question):\n",
    "    facts = [chunk[\"facts\"] for chunk in chunks]\n",
    "    context = \"Facts:\\n\"\n",
    "    context+= \"\\n\".join(facts)\n",
    "    context+= f\"\\nQuestion: {question}\\n\"\n",
    "    return context\n",
    "\n",
    "system_prompt = \"\"\"You are a question answering assistant. You will be provided with a set of facts extracted from documents, followed by a question.\n",
    "Answer the question based on the provided facts. Disregard any facts or statements irrelevant to the question. Feel free to answer in markdown!\"\"\""
   ]
  },
  {
   "cell_type": "code",
   "execution_count": 22,
   "metadata": {},
   "outputs": [
    {
     "data": {
      "text/plain": [
       "\"Facts:\\n* Vista Retail Solutions currently uses a Relational DB, primarily MySQL.\\n* Vista Retail Solutions has high write loads and needs real-time analytics for user activity and product tracking.\\n* Erin Smith is an IT Security Officer at Vista Retail Solutions, focusing on data security.\\n* Erin Smith is responsible for data security at Vista Retail Solutions.\\n* Vista Retail Solutions needs to comply with GDPR due to its European market presence.\\n* Vista Retail Solutions needs to consider HIPAA compliance for handling employee health information in benefits management.\\n* TODO: Erin Smith will review MongoDB's compliance certifications and prepare a security audit checklist.\\n* Vista Retail Solutions currently uses a Relational DB, primarily MySQL, with heavy joins and slow queries under load.\\n* Vista Retail Solutions has high write loads and needs real-time analytics for user activity and product tracking.\\n* The data patterns discussed were mostly writes with occasional heavy reads, especially during product launches and sales.\\n* Real-time data feeding into analytics for dynamic pricing adjustments was also discussed.\\n* Vista Retail Solutions needs to comply with GDPR due to its presence in the European market.\\n* Vista Retail Solutions needs to consider HIPAA compliance for handling employee health information in benefits management.\\n* Adjustments from prototype feedback include query performance improvements on product listings and enhanced schema design for user profiles and order history.\\n* Data access patterns involve high read rates on product catalog with caching for performance, burst writes during sales events, and complex queries for recommendations and customer insights.\\n* Security and backup strategies include transitioning to field-level encryption, real-time data encryption, and automated rolling backups.\\n* Bob Lee is a Project Manager at Vista Retail Solutions, interested in modernizing their database.\\n* Charlie Kim is a Software Engineer at Vista Retail Solutions, looking for scalable solutions.\\n* Bob Lee and Charlie Kim work for Vista Retail Solutions.\\n* Bob Lee is the Project Manager, and Charlie Kim is a Software Engineer.\\n* TODO: Bob Lee will share existing schema and top queries.\\n* Charlie Kim is a Software Engineer with a focus on performance details.\\n* Charlie Kim will prototype a MongoDB shard with sample product data.\\n* TODO: Charlie Kim will prototype a MongoDB shard with sample product data.\\n* Bob Lee is a Project Manager at Vista Retail Solutions, focusing on compliance.\\n* Erin Smith is an IT Security Officer at Vista Retail Solutions, focusing on data security.\\n* Bob Lee and Erin Smith work for Vista Retail Solutions.\\n* Bob Lee and Erin Smith are working together on the compliance and security aspects of the project.\\n* Charlie Kim is a Software Engineer and the migration lead.\\n* Charlie Kim is responsible for the migration process.\\n* Bob Lee is a Project Manager responsible for project finalization.\\n* Charlie Kim is a Software Engineer and the implementation lead.\\n* Bob Lee is the Project Manager for the project finalization.\\n* Charlie Kim is the Software Engineer and implementation lead for the project.\\n* TODO: Bob Lee will manage the project timeline and coordinate key phases.\\n* TODO: Charlie Kim will lead the implementation and work on API integration.\\n* Bob Lee is a Project Manager at Vista Retail Solutions, interested in modernizing their database.\\n* Charlie Kim is a Software Engineer at Vista Retail Solutions, looking for scalable solutions.\\n* Bob Lee and Charlie Kim work for Vista Retail Solutions.\\n* Bob Lee is the Project Manager, and Charlie Kim is a Software Engineer.\\n* TODO: Bob Lee will share existing schema and top queries.\\n* Charlie Kim is a Software Engineer with a focus on performance details.\\n* TODO: Charlie Kim will prototype a MongoDB shard with sample product data.\\n* Bob Lee is a Project Manager at Vista Retail Solutions, focusing on compliance.\\n* Bob Lee is responsible for compliance at Vista Retail Solutions.\\n* TODO: Bob Lee will organize a compliance review meeting with the legal team and MongoDB experts.\\n* Charlie Kim is a Software Engineer and the migration lead.\\n* Bob Lee is a Project Manager responsible for project finalization.\\n* Charlie Kim is a Software Engineer and the implementation lead.\\n* Bob Lee and Charlie Kim work together on the project finalization.\\n* TODO: Bob Lee to manage the implementation timeline and coordinate key phases.\\n* TODO: Charlie Kim to lead the implementation and work on API integration.\\n* Alice Johnson, Charlie Kim, and Diana Reed attended the meeting.\\n* The meeting focused on sharding for horizontal scalability and indexing strategies for performance.\\n* The purpose of the meeting is to finalize implementation details for an e-commerce shop.\\nQuestion: What do we know about the app they're building?\\n\""
      ]
     },
     "execution_count": 22,
     "metadata": {},
     "output_type": "execute_result"
    }
   ],
   "source": [
    "build_context(results, question)"
   ]
  },
  {
   "cell_type": "code",
   "execution_count": 29,
   "metadata": {},
   "outputs": [],
   "source": [
    "from meeting_mate.llm.models import ChatModel, ChatModels\n",
    "from langchain_core.messages import HumanMessage, SystemMessage\n",
    "\n",
    "sm = SystemMessage(system_prompt)\n",
    "um = HumanMessage(build_context(results, question))\n",
    "\n",
    "chatModel = ChatModel(ChatModels.LLAMA3_8B_INSTRUCT)\n",
    "response = chatModel.invoke([sm, um], \"For science\", user_id)"
   ]
  },
  {
   "cell_type": "code",
   "execution_count": 24,
   "metadata": {},
   "outputs": [
    {
     "data": {
      "text/markdown": [
       "Based on the provided facts, we know that Vista Retail Solutions is building an e-commerce shop that requires real-time analytics for user activity and product tracking, high write loads, and dynamic pricing adjustments. The app also needs to handle employee health information in benefits management, which requires consideration of HIPAA compliance. Additionally, the app needs to comply with GDPR due to its presence in the European market."
      ],
      "text/plain": [
       "<IPython.core.display.Markdown object>"
      ]
     },
     "metadata": {},
     "output_type": "display_data"
    }
   ],
   "source": [
    "from IPython.display import display, Markdown\n",
    "\n",
    "display(Markdown(response))"
   ]
  },
  {
   "cell_type": "code",
   "execution_count": 30,
   "metadata": {},
   "outputs": [
    {
     "data": {
      "text/plain": [
       "'You are a question answering assistant. You will be provided with a set of facts extracted from documents, followed by a question.\\nAnswer the question based on the provided facts. Disregard any facts or statements irrelevant to the question. Feel free to answer in markdown!'"
      ]
     },
     "execution_count": 30,
     "metadata": {},
     "output_type": "execute_result"
    }
   ],
   "source": [
    "system_prompt"
   ]
  },
  {
   "cell_type": "code",
   "execution_count": 31,
   "metadata": {},
   "outputs": [],
   "source": [
    "chatModel = ChatModel(ChatModels.LLAMA3_8B_INSTRUCT)\n",
    "def get_answer(question:str, user_id:str, orgs:list[str]=None):\n",
    "    results, pipe = retriever.vector_search(query=question, user=user_id, purpose=\"data science\", orgs=orgs)\n",
    "    context = build_context(results, question)\n",
    "    sma = SystemMessage(system_prompt)\n",
    "    um = HumanMessage(context)\n",
    "    response = chatModel.invoke([sm, um], \"For science\", user_id)\n",
    "    return response"
   ]
  },
  {
   "cell_type": "code",
   "execution_count": 32,
   "metadata": {},
   "outputs": [
    {
     "data": {
      "text/markdown": [
       "Here's what we know about the app they're building:\n",
       "* The new platform aims to collect sensor information to analyze and predict failures.\n",
       "* The new platform will enable pro-active maintenance based on wear & tear.\n",
       "* The app will collect metrics and periodically push data to the cloud.\n",
       "* The team is planning to deploy small edge devices with a local database running to collect metrics.\n",
       "* The team is exploring a combination of time series databases and Postgres for miscellaneous data.\n",
       "* The app will have dashboards, and Ted Bill, a full stack developer, is in charge of building them.\n",
       "* The team is considering moving into the cloud and using something native like Aurora.\n",
       "* The team is interested in exploring edge servers for sync to Atlas.\n",
       "* The app will have a focus on IoT and event platform development, as Steve Stevenson, the Product Owner, has a background in this area."
      ],
      "text/plain": [
       "<IPython.core.display.Markdown object>"
      ]
     },
     "metadata": {},
     "output_type": "display_data"
    }
   ],
   "source": [
    "question = \"What do we know about the app they're building?\"\n",
    "display(Markdown(get_answer(question, user_id, [\"Hellevators\"])))"
   ]
  }
 ],
 "metadata": {
  "kernelspec": {
   "display_name": ".venv",
   "language": "python",
   "name": "python3"
  },
  "language_info": {
   "codemirror_mode": {
    "name": "ipython",
    "version": 3
   },
   "file_extension": ".py",
   "mimetype": "text/x-python",
   "name": "python",
   "nbconvert_exporter": "python",
   "pygments_lexer": "ipython3",
   "version": "3.12.2"
  }
 },
 "nbformat": 4,
 "nbformat_minor": 2
}
